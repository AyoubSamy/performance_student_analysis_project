{
 "cells": [
  {
   "cell_type": "markdown",
   "metadata": {},
   "source": [
    "-selecting data \n",
    "-Preparing the Data for the algorithme \n",
    "-Choosing algorithms:\n",
    "-trainning Models:\n",
    "-Evaluating the Model:\n",
    "-choising one model:\n",
    "-Parameter Tuning:"
   ]
  },
  {
   "cell_type": "markdown",
   "metadata": {},
   "source": [
    "prepare data to trainning :"
   ]
  },
  {
   "cell_type": "code",
   "execution_count": null,
   "metadata": {
    "vscode": {
     "languageId": "plaintext"
    }
   },
   "outputs": [],
   "source": [
    "dfd"
   ]
  },
  {
   "cell_type": "markdown",
   "metadata": {},
   "source": [
    "application of descision tree algorithme :"
   ]
  },
  {
   "cell_type": "code",
   "execution_count": null,
   "metadata": {
    "vscode": {
     "languageId": "plaintext"
    }
   },
   "outputs": [],
   "source": []
  }
 ],
 "metadata": {
  "language_info": {
   "name": "python"
  }
 },
 "nbformat": 4,
 "nbformat_minor": 2
}
